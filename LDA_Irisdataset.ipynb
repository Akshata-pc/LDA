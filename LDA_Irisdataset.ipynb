{
  "nbformat": 4,
  "nbformat_minor": 0,
  "metadata": {
    "kernelspec": {
      "display_name": "Python 3",
      "language": "python",
      "name": "python3"
    },
    "language_info": {
      "codemirror_mode": {
        "name": "ipython",
        "version": 3
      },
      "file_extension": ".py",
      "mimetype": "text/x-python",
      "name": "python",
      "nbconvert_exporter": "python",
      "pygments_lexer": "ipython3",
      "version": "3.8.3"
    },
    "colab": {
      "name": "LDA_Irisdataset.ipynb",
      "provenance": [],
      "collapsed_sections": [],
      "toc_visible": true
    }
  },
  "cells": [
    {
      "cell_type": "markdown",
      "metadata": {
        "id": "VWX4-vWKLjpJ"
      },
      "source": [
        "# Perform the Linear Discreminant Analysis for the dataset given"
      ]
    },
    {
      "cell_type": "markdown",
      "metadata": {
        "id": "jiz3cDGDLjpK"
      },
      "source": [
        "### Step 1: Find the D-dimensional mean vector for each classes (iris-data we get)\n",
        "$$\\begin{align*} m_i = \\begin{bmatrix} \\mu_{sl} (sepal-length) \\\\ \\mu_{sw} (sepal-width) \\\\ \\mu_{pl} (petal-length) \\\\ \\mu_{pw} (sepal-width)\\end{bmatrix}\\end{align*}$$"
      ]
    },
    {
      "cell_type": "code",
      "metadata": {
        "id": "cIJhZbGoM8x0"
      },
      "source": [
        "import matplotlib.pyplot as plt\n",
        "import numpy as np\n",
        "import pandas as pd"
      ],
      "execution_count": null,
      "outputs": []
    },
    {
      "cell_type": "code",
      "metadata": {
        "colab": {
          "base_uri": "https://localhost:8080/",
          "height": 195
        },
        "id": "FnbSxI5qNX8G",
        "outputId": "7bc98ab1-eddb-4f6f-ec11-71f7fea48598"
      },
      "source": [
        "df = pd.read_csv('/content/Akshata Choukimath - iris.csv - Akshata Choukimath - iris.csv.csv')\n",
        "df.head()"
      ],
      "execution_count": null,
      "outputs": [
        {
          "output_type": "execute_result",
          "data": {
            "text/html": [
              "<div>\n",
              "<style scoped>\n",
              "    .dataframe tbody tr th:only-of-type {\n",
              "        vertical-align: middle;\n",
              "    }\n",
              "\n",
              "    .dataframe tbody tr th {\n",
              "        vertical-align: top;\n",
              "    }\n",
              "\n",
              "    .dataframe thead th {\n",
              "        text-align: right;\n",
              "    }\n",
              "</style>\n",
              "<table border=\"1\" class=\"dataframe\">\n",
              "  <thead>\n",
              "    <tr style=\"text-align: right;\">\n",
              "      <th></th>\n",
              "      <th>sepal.length</th>\n",
              "      <th>sepal.width</th>\n",
              "      <th>petal.length</th>\n",
              "      <th>petal.width</th>\n",
              "      <th>variety</th>\n",
              "    </tr>\n",
              "  </thead>\n",
              "  <tbody>\n",
              "    <tr>\n",
              "      <th>0</th>\n",
              "      <td>5.1</td>\n",
              "      <td>3.5</td>\n",
              "      <td>1.4</td>\n",
              "      <td>0.2</td>\n",
              "      <td>Setosa</td>\n",
              "    </tr>\n",
              "    <tr>\n",
              "      <th>1</th>\n",
              "      <td>4.9</td>\n",
              "      <td>3.0</td>\n",
              "      <td>1.4</td>\n",
              "      <td>0.2</td>\n",
              "      <td>Setosa</td>\n",
              "    </tr>\n",
              "    <tr>\n",
              "      <th>2</th>\n",
              "      <td>4.7</td>\n",
              "      <td>3.2</td>\n",
              "      <td>1.3</td>\n",
              "      <td>0.2</td>\n",
              "      <td>Setosa</td>\n",
              "    </tr>\n",
              "    <tr>\n",
              "      <th>3</th>\n",
              "      <td>4.6</td>\n",
              "      <td>3.1</td>\n",
              "      <td>1.5</td>\n",
              "      <td>0.2</td>\n",
              "      <td>Setosa</td>\n",
              "    </tr>\n",
              "    <tr>\n",
              "      <th>4</th>\n",
              "      <td>5.0</td>\n",
              "      <td>3.6</td>\n",
              "      <td>1.4</td>\n",
              "      <td>0.2</td>\n",
              "      <td>Setosa</td>\n",
              "    </tr>\n",
              "  </tbody>\n",
              "</table>\n",
              "</div>"
            ],
            "text/plain": [
              "   sepal.length  sepal.width  petal.length  petal.width variety\n",
              "0           5.1          3.5           1.4          0.2  Setosa\n",
              "1           4.9          3.0           1.4          0.2  Setosa\n",
              "2           4.7          3.2           1.3          0.2  Setosa\n",
              "3           4.6          3.1           1.5          0.2  Setosa\n",
              "4           5.0          3.6           1.4          0.2  Setosa"
            ]
          },
          "metadata": {
            "tags": []
          },
          "execution_count": 63
        }
      ]
    },
    {
      "cell_type": "code",
      "metadata": {
        "id": "E4Zchb_0QVi7"
      },
      "source": [
        "from sklearn.preprocessing import LabelEncoder\n",
        "X = df[['sepal.length',\t'sepal.width',\t'petal.length',\t'petal.width'\t]].values\n",
        "y = df['variety'].values\n",
        "\n",
        "enc = LabelEncoder()\n",
        "label_encoder = enc.fit(y)\n",
        "y = label_encoder.transform(y) + 1\n",
        "\n",
        "label_dict = {1: 'Setosa', 2: 'Versicolor', 3:'Virginica'}\n"
      ],
      "execution_count": null,
      "outputs": []
    },
    {
      "cell_type": "code",
      "metadata": {
        "id": "Jz188HZ_LjpK"
      },
      "source": [
        "np.set_printoptions(precision=4)\n",
        "mean_vector = []\n",
        "def get_meanVector(data):\n",
        "    \n",
        "    for cl in range(1,4):\n",
        "      mean_vector.append(np.mean(X[y==cl], axis=0))\n",
        "      print('Mean Vector class %s: %s\\n' %(cl, mean_vector[cl-1])) "
      ],
      "execution_count": null,
      "outputs": []
    },
    {
      "cell_type": "code",
      "metadata": {
        "colab": {
          "base_uri": "https://localhost:8080/"
        },
        "id": "fdz_wEl-M7fn",
        "outputId": "c64084c5-a126-4f88-eb2a-eb1edb7469ad"
      },
      "source": [
        "get_meanVector(df)"
      ],
      "execution_count": null,
      "outputs": [
        {
          "output_type": "stream",
          "text": [
            "Mean Vector class 1: [5.006 3.428 1.462 0.246]\n",
            "\n",
            "Mean Vector class 2: [5.936 2.77  4.26  1.326]\n",
            "\n",
            "Mean Vector class 3: [6.588 2.974 5.552 2.026]\n",
            "\n"
          ],
          "name": "stdout"
        }
      ]
    },
    {
      "cell_type": "markdown",
      "metadata": {
        "id": "S-BVtUWBLjpM"
      },
      "source": [
        "### Step 2: Computing the Scatter Matrices. Fist we will computer the within scatter matrix $S_w$\n",
        "\n",
        "#### 2.1(a) Within-class scatter matrix $S_w$\n",
        "\n",
        "$$\\Large\\begin{align*}S_w = \\sum_{i=1}^n s_i\\end{align*}$$ \n",
        "where, \n",
        "\n",
        "$\\Large s_i = \\begin{align*} \\sum_{x \\in D_i}^n (x - m_i)(x - m_i)^{T}\\end{align*}$\n",
        "\n",
        "#### (scatter matrix for every class)\n",
        "\n",
        "#### $m_i$ is the mean vector\n",
        "\n",
        "$\\Large m_i = \\begin{align*} \\frac{1}{n_i} \\sum_{x \\in D_i}^n x_k\\end{align*}$ \n",
        "\n"
      ]
    },
    {
      "cell_type": "markdown",
      "metadata": {
        "id": "fsgScF9TLjpM"
      },
      "source": [
        "#### Step 2.1(b) Alternatively,  we could also compute the class-covariance matrices by adding the scaling factor $\\frac{1}{N-1}$ to the within-class scatter matrix, so that our equation becomes \n",
        "\n",
        "$\\sum_i = \\begin{align*}\\frac{1}{N_{i}-1} \\sum_{i=1}^n (x - m_i) (x - m_i)^T\\end{align*}$\n",
        "\n",
        "$S_w = \\begin{align*} \\sum_{i=1}^c (N_i - 1)\\end{align*}\\sum_i$\n",
        "\n",
        "where $N_i$ is the sample size of the respective class"
      ]
    },
    {
      "cell_type": "code",
      "metadata": {
        "id": "vfCzTTGeLjpM"
      },
      "source": [
        "S_W = np.zeros((4,4)) #zeros((number of features)) # depends on the number of class\n",
        "def sw(mean_vector):\n",
        "    S_W = np.zeros((4,4)) \n",
        "    for cl,mv in zip(range(1,4), mean_vector):\n",
        "      class_sc_mat = np.zeros((4,4))                  # scatter matrix for every class\n",
        "      for row in X[y == cl]:\n",
        "        row, mv = row.reshape(4,1), mv.reshape(4,1) # make column vectors\n",
        "        class_sc_mat += (row-mv).dot((row-mv).T)\n",
        "      S_W = S_W + class_sc_mat                             # sum class scatter matrices\n",
        "    return S_W\n"
      ],
      "execution_count": null,
      "outputs": []
    },
    {
      "cell_type": "code",
      "metadata": {
        "colab": {
          "base_uri": "https://localhost:8080/"
        },
        "id": "GL4WRynNUKRf",
        "outputId": "cea5c622-347d-46ba-db0d-c9abcdef9da8"
      },
      "source": [
        "S_W = sw(mean_vector)\n",
        "print('within-class Scatter Matrix:\\n', S_W)\n"
      ],
      "execution_count": null,
      "outputs": [
        {
          "output_type": "stream",
          "text": [
            "within-class Scatter Matrix:\n",
            " [[38.9562 13.63   24.6246  5.645 ]\n",
            " [13.63   16.962   8.1208  4.8084]\n",
            " [24.6246  8.1208 27.2226  6.2718]\n",
            " [ 5.645   4.8084  6.2718  6.1566]]\n"
          ],
          "name": "stdout"
        }
      ]
    },
    {
      "cell_type": "markdown",
      "metadata": {
        "id": "B4bapYCiLjpM"
      },
      "source": [
        "#### Step 2.2 Between-class scatter matrix $S_b$. \n",
        "\n",
        "The between-class scatter matrix SB is computed by the following equation\n",
        "\n",
        "$$\\large\\begin{align*} S_b = \\sum_{i=1}^c N_i(m_i - m)(m_i - m)^T\\end{align*}$$\n",
        "\n",
        "where\n",
        "m is the overall mean, and $m_i$ and $N_i$ are the sample mean and sizes of the respective classes."
      ]
    },
    {
      "cell_type": "code",
      "metadata": {
        "id": "XVIjCBIxLjpM"
      },
      "source": [
        "overall_mean = np.mean(X, axis=0)\n",
        "S_b = np.zeros((4,4))  #zeros((number of features)) # depends on the number of class\n",
        "\n",
        "def sb(mean_vector,overall_mean):\n",
        "    S_b = np.zeros((4,4))\n",
        "    for i,mean_vec in enumerate(mean_vector):  \n",
        "      n = X[y==i+1,:].shape[0]\n",
        "      mean_vec = mean_vec.reshape(4,1) # make column vector\n",
        "      overall_mean = overall_mean.reshape(4,1) # make column vector\n",
        "      S_b += n * (mean_vec - overall_mean).dot((mean_vec - overall_mean).T)\n",
        "    return S_b"
      ],
      "execution_count": null,
      "outputs": []
    },
    {
      "cell_type": "code",
      "metadata": {
        "colab": {
          "base_uri": "https://localhost:8080/"
        },
        "id": "7olKDxEmWrKx",
        "outputId": "ef2d805c-0091-45bd-8a56-ac58c5620e18"
      },
      "source": [
        "S_b= sb(mean_vector,overall_mean)\n",
        "print('between-class Scatter Matrix:\\n', S_b)"
      ],
      "execution_count": null,
      "outputs": [
        {
          "output_type": "stream",
          "text": [
            "between-class Scatter Matrix:\n",
            " [[ 63.2121 -19.9527 165.2484  71.2793]\n",
            " [-19.9527  11.3449 -57.2396 -22.9327]\n",
            " [165.2484 -57.2396 437.1028 186.774 ]\n",
            " [ 71.2793 -22.9327 186.774   80.4133]]\n"
          ],
          "name": "stdout"
        }
      ]
    },
    {
      "cell_type": "markdown",
      "metadata": {
        "id": "7lve5R5JLjpN"
      },
      "source": [
        "### Step 3: Solving the generalized eigenvalue problem for the matrix $S^{−1}_WS_b$"
      ]
    },
    {
      "cell_type": "code",
      "metadata": {
        "colab": {
          "base_uri": "https://localhost:8080/"
        },
        "id": "zff9Tl0PLjpN",
        "outputId": "f03f70bf-b957-4ec6-f99f-1143272c939f"
      },
      "source": [
        "#Find the eigenvalues and eigenvectors\n",
        "eig_vals, eig_vecs = np.linalg.eig(np.linalg.inv(S_W).dot(S_b))\n",
        "\n",
        "for i in range(len(eig_vals)):\n",
        "    eigvec_sc = eig_vecs[:,i].reshape(4,1)   \n",
        "    print('\\nEigenvector {}: \\n{}'.format(i+1, eigvec_sc.real))\n",
        "    print('Eigenvalue {:}: {:.2e}'.format(i+1, eig_vals[i].real))"
      ],
      "execution_count": null,
      "outputs": [
        {
          "output_type": "stream",
          "text": [
            "\n",
            "Eigenvector 1: \n",
            "[[-0.2087]\n",
            " [-0.3862]\n",
            " [ 0.554 ]\n",
            " [ 0.7074]]\n",
            "Eigenvalue 1: 3.22e+01\n",
            "\n",
            "Eigenvector 2: \n",
            "[[-0.0065]\n",
            " [-0.5866]\n",
            " [ 0.2526]\n",
            " [-0.7695]]\n",
            "Eigenvalue 2: 2.85e-01\n",
            "\n",
            "Eigenvector 3: \n",
            "[[-0.879 ]\n",
            " [ 0.2496]\n",
            " [ 0.2188]\n",
            " [ 0.3422]]\n",
            "Eigenvalue 3: -2.09e-15\n",
            "\n",
            "Eigenvector 4: \n",
            "[[ 0.3492]\n",
            " [-0.4242]\n",
            " [-0.4798]\n",
            " [ 0.684 ]]\n",
            "Eigenvalue 4: 6.71e-15\n"
          ],
          "name": "stdout"
        }
      ]
    },
    {
      "cell_type": "markdown",
      "metadata": {
        "id": "K_AV9ixfLjpN"
      },
      "source": [
        "# quick sanity check \n",
        "\n",
        "#A quick check that the eigenvector-eigenvalue calculation is correct and satisfy the equation:\n",
        "\n",
        "$$Av = \\lambda v$$\n",
        "\n",
        "where \n",
        "A = $S^{−1}_WS_b$\n",
        "\n",
        "v = Eigenvector\n",
        "\n",
        "$\\lambda$ = Eigenvalue"
      ]
    },
    {
      "cell_type": "code",
      "metadata": {
        "colab": {
          "base_uri": "https://localhost:8080/"
        },
        "id": "G4U-ZOX9LjpN",
        "outputId": "34817502-47c7-4ee6-c530-67c33b338d10"
      },
      "source": [
        "for i in range(len(eig_vals)):\n",
        "    eigv = eig_vecs[:,i].reshape(4,1)\n",
        "    np.testing.assert_array_almost_equal(np.linalg.inv(S_W).dot(S_b).dot(eigv),\n",
        "                                         eig_vals[i] * eigv,\n",
        "                                         decimal=6, err_msg='', verbose=True)\n",
        "print('ok')"
      ],
      "execution_count": null,
      "outputs": [
        {
          "output_type": "stream",
          "text": [
            "ok\n"
          ],
          "name": "stdout"
        }
      ]
    },
    {
      "cell_type": "markdown",
      "metadata": {
        "id": "F0AquRovLjpN"
      },
      "source": [
        "### Step 4: Selecting linear discriminants for the new feature subspace\n",
        "\n",
        "#### 4.1. Sorting the eigenvectors by decreasing eigenvalues\n",
        "\n",
        "Remember that we are not only interested in projecting the data into a subspace that gives a better class separability, but also reduces the dimensionality of the feature space. Eigenvectors with the lowest Eigenvalues will have the least information about the distribution of the data. Hence, we have to drop those. In the next code you have to rank the eigenvectors in the descending order."
      ]
    },
    {
      "cell_type": "code",
      "metadata": {
        "colab": {
          "base_uri": "https://localhost:8080/"
        },
        "id": "QXSjAjuILjpN",
        "outputId": "fea15910-7cf4-4c8c-d2d5-ca8f74a61408"
      },
      "source": [
        "eig_pairs= []\n",
        "def sort_eigV():\n",
        "    # Make a list of (eigenvalue, eigenvector) tuples and Sort the (eigenvalue, eigenvector) tuples from high to low\n",
        "    eig_pairs = [(np.abs(eig_vals[i]), eig_vecs[:,i]) for i in range(len(eig_vals))]\n",
        "    eig_pairs = sorted(eig_pairs, key=lambda k: k[0], reverse=True)\n",
        "    return eig_pairs\n",
        "\n",
        "print('Eigenvalues in decreasing order:\\n')\n",
        "eig_pairs = sort_eigV()\n",
        "for i in eig_pairs:\n",
        "    print(i[0])"
      ],
      "execution_count": null,
      "outputs": [
        {
          "output_type": "stream",
          "text": [
            "Eigenvalues in decreasing order:\n",
            "\n",
            "32.191929198278025\n",
            "0.2853910426230689\n",
            "6.714007081105466e-15\n",
            "2.09150323208503e-15\n"
          ],
          "name": "stdout"
        }
      ]
    },
    {
      "cell_type": "code",
      "metadata": {
        "colab": {
          "base_uri": "https://localhost:8080/"
        },
        "id": "0qbHNRP5LjpN",
        "outputId": "090c1438-629a-4d2d-d430-703f5fb76e27"
      },
      "source": [
        "# Let us express the Eigenvectors are percentage\n",
        "\n",
        "print('Eigenvalue are percentage:\\n')\n",
        "eigv_sum = sum(eig_vals)\n",
        "for i,j in enumerate(eig_pairs):\n",
        "    print('eigenvalue {0:}: {1:.2%}'.format(i+1, (j[0]/eigv_sum).real))"
      ],
      "execution_count": null,
      "outputs": [
        {
          "output_type": "stream",
          "text": [
            "Eigenvalue are percentage:\n",
            "\n",
            "eigenvalue 1: 99.12%\n",
            "eigenvalue 2: 0.88%\n",
            "eigenvalue 3: 0.00%\n",
            "eigenvalue 4: 0.00%\n"
          ],
          "name": "stdout"
        }
      ]
    },
    {
      "cell_type": "markdown",
      "metadata": {
        "id": "DUNco3JlLjpN"
      },
      "source": [
        "The first eigenpair is by far the most informative one, that captures most of the information present in the data"
      ]
    },
    {
      "cell_type": "markdown",
      "metadata": {
        "id": "mZ7wV15QLjpN"
      },
      "source": [
        "#### step 4.2. Choosing k eigenvectors with the largest eigenvalues\n",
        "\n"
      ]
    },
    {
      "cell_type": "code",
      "metadata": {
        "colab": {
          "base_uri": "https://localhost:8080/"
        },
        "id": "0wXsvd0lLjpN",
        "outputId": "b59d8d8e-3070-4fb7-d7d7-798a2c561ed0"
      },
      "source": [
        "W = np.hstack((eig_pairs[0][1].reshape(4,1), eig_pairs[1][1].reshape(4,1)))\n",
        "print('Matrix W:\\n', W.real)"
      ],
      "execution_count": null,
      "outputs": [
        {
          "output_type": "stream",
          "text": [
            "Matrix W:\n",
            " [[-0.2087 -0.0065]\n",
            " [-0.3862 -0.5866]\n",
            " [ 0.554   0.2526]\n",
            " [ 0.7074 -0.7695]]\n"
          ],
          "name": "stdout"
        }
      ]
    },
    {
      "cell_type": "markdown",
      "metadata": {
        "id": "HLB6Pz3CLjpO"
      },
      "source": [
        "### Step 5: Transforming the samples onto the new subspace\n",
        "\n",
        "In the last step, we use the 4×2-dimensional matrix WW that we just computed to transform our samples onto the new subspace via the equation\n",
        "\n",
        "$Y = X \\times W$\n",
        "\n",
        "where X is a n×d-dimensional matrix representing the n samples, and Y are the transformed n×k-dimensional samples in the new subspace"
      ]
    },
    {
      "cell_type": "code",
      "metadata": {
        "colab": {
          "base_uri": "https://localhost:8080/",
          "height": 295
        },
        "id": "7z7JJPjuLjpO",
        "outputId": "f7b2b172-267f-4532-b6f2-5495cf44c7cc"
      },
      "source": [
        "X_lda = X.dot(W)\n",
        "assert X_lda.shape == (150,2), \"The matrix is not 150x2 dimensional.\"\n",
        "\n",
        "from matplotlib import pyplot as plt\n",
        "\n",
        "def plot_step_lda():\n",
        "\n",
        "    ax = plt.subplot(111)\n",
        "    for label,marker,color in zip(\n",
        "        range(1,4),('^', 's', 'o'),('blue', 'red', 'green')):\n",
        "\n",
        "        plt.scatter(x=X_lda[:,0].real[y == label],\n",
        "                y=X_lda[:,1].real[y == label],\n",
        "                marker=marker,\n",
        "                color=color,\n",
        "                alpha=0.5,\n",
        "                label=label_dict[label]\n",
        "                )\n",
        "\n",
        "    plt.xlabel('LD1')\n",
        "    plt.ylabel('LD2')\n",
        "\n",
        "    leg = plt.legend(loc='upper right', fancybox=True)\n",
        "    leg.get_frame().set_alpha(0.5)\n",
        "    plt.title('LDA: Iris projection onto the first 2 linear discriminants')\n",
        "\n",
        "    # hide axis ticks\n",
        "    plt.tick_params(axis=\"both\", which=\"both\", bottom=\"off\", top=\"off\",  \n",
        "            labelbottom=\"on\", left=\"off\", right=\"off\", labelleft=\"on\")\n",
        "\n",
        "    # remove axis spines\n",
        "    ax.spines[\"top\"].set_visible(False)  \n",
        "    ax.spines[\"right\"].set_visible(False)\n",
        "    ax.spines[\"bottom\"].set_visible(False)\n",
        "    ax.spines[\"left\"].set_visible(False)    \n",
        "\n",
        "    plt.grid()\n",
        "    plt.tight_layout\n",
        "    plt.show()\n",
        "\n",
        "plot_step_lda()"
      ],
      "execution_count": null,
      "outputs": [
        {
          "output_type": "display_data",
          "data": {
            "image/png": "[encoded data removed]",
            "text/plain": [
              "<Figure size 432x288 with 1 Axes>"
            ]
          },
          "metadata": {
            "tags": [],
            "needs_background": "light"
          }
        }
      ]
    },
    {
      "cell_type": "markdown",
      "metadata": {
        "id": "pTf8Jf90LjpO"
      },
      "source": [
        "![image.png](attachment:201dad49-01ad-488e-85f8-287012f170b6.png)"
      ]
    },
    {
      "cell_type": "markdown",
      "metadata": {
        "id": "BVbvdIB4LjpO"
      },
      "source": [
        "The scatter plot above represents new feature subspace that we constructed via LDA. We can see that the first linear discriminant **“LD1”** separates the classes quite nicely. However, the second discriminant, **“LD2”**, does not add much valuable information, which we already know when we looked at the ranked eigenvalues is step 4."
      ]
    }
  ]
}